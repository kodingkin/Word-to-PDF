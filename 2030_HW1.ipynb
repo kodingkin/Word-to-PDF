{
  "cells": [
    {
      "cell_type": "markdown",
      "metadata": {
        "id": "view-in-github",
        "colab_type": "text"
      },
      "source": [
        "<a href=\"https://colab.research.google.com/github/kodingkin/Word-to-PDF/blob/main/2030_HW1.ipynb\" target=\"_parent\"><img src=\"https://colab.research.google.com/assets/colab-badge.svg\" alt=\"Open In Colab\"/></a>"
      ]
    },
    {
      "cell_type": "code",
      "source": [
        "#========================================#\n",
        "# ESSC Python Course\n",
        "# Lecture 1 HW\n",
        "# Name: Wan Kin\n",
        "# SID: 1155127154\n",
        "#========================================#"
      ],
      "metadata": {
        "id": "ihVDZA2UeBHd"
      },
      "execution_count": null,
      "outputs": []
    },
    {
      "cell_type": "code",
      "source": [
        "#========================================#\n",
        "# Ex 1\n",
        "#========================================#\n",
        "q1 = ((123 + 456) * 7/89)\n",
        "q2 = (2**5 * 3**3 *5*7)\n",
        "q3 = ((98.7 - 6.5)/43.21)\n",
        "print ('%f %d %f'%(q1,q2,q3))"
      ],
      "metadata": {
        "id": "9rjvgf27eFm_",
        "colab": {
          "base_uri": "https://localhost:8080/"
        },
        "outputId": "861b25cc-90bd-4a57-90fa-cfc7487068af"
      },
      "execution_count": null,
      "outputs": [
        {
          "output_type": "stream",
          "name": "stdout",
          "text": [
            "45.539326 30240 2.133765\n"
          ]
        }
      ]
    },
    {
      "cell_type": "code",
      "source": [
        "#========================================#\n",
        "# Ex 2\n",
        "#========================================#\n",
        "import math\n",
        "# Define dew-point temperature and air temperature.\n",
        "dew_temp = 25.3\n",
        "air_temp = 30\n",
        "e =  2.71828\n",
        "# Evaluate saturation vapor pressure at given temperatures.\n",
        "# Write down the expression below.\n",
        "e_dew = (6.1094)*(e**((17.625*dew_temp)/(dew_temp+243.04)))\n",
        "e_air = (6.1094)*(e**((17.625*air_temp)/(air_temp+243.04)))\n",
        "# Calculate the R.H. which is e_s(T_d) divided by e_s(T_a).\n",
        "# Complete the expression below.\n",
        "RH = e_dew/ e_air\n",
        "# Print out the result.\n",
        "print(\"Relative humidity is \", RH)\n",
        "# Make changes when temperature rise to 32.7'C\n",
        "air_temp = 32.7\n",
        "e_air = (6.1094)*(e**((17.625*air_temp)/(air_temp+243.04)))\n",
        "RH = e_dew/ e_air \n",
        "print(\"Relative humidity is \", RH)\n"
      ],
      "metadata": {
        "id": "ZGFOO3rteH87",
        "colab": {
          "base_uri": "https://localhost:8080/"
        },
        "outputId": "21be7136-41c4-4c47-bab2-70fce743e4b1"
      },
      "execution_count": null,
      "outputs": [
        {
          "output_type": "stream",
          "name": "stdout",
          "text": [
            "Relative humidity is  0.7597355758994899\n",
            "Relative humidity is  0.6515483894569916\n"
          ]
        }
      ]
    },
    {
      "cell_type": "code",
      "source": [
        "#========================================#\n",
        "# Ex 3\n",
        "#========================================#\n",
        "import math\n",
        "# Define age \n",
        "age_year = 21\n",
        "age_month = 11\n",
        "age_day = 26\n",
        "# Calculate decimal age\n",
        "decimal_age = age_year + age_month/12 + age_day/365\n",
        "# Print the result\n",
        "print('%.6f'%decimal_age)"
      ],
      "metadata": {
        "id": "QT37_FXneJyK",
        "colab": {
          "base_uri": "https://localhost:8080/"
        },
        "outputId": "4fe72309-945d-4cb0-c274-556d48541d5b"
      },
      "execution_count": null,
      "outputs": [
        {
          "output_type": "stream",
          "name": "stdout",
          "text": [
            "21.987900\n"
          ]
        }
      ]
    }
  ],
  "metadata": {
    "kernelspec": {
      "display_name": "Python 3",
      "language": "python",
      "name": "python3"
    },
    "language_info": {
      "codemirror_mode": {
        "name": "ipython",
        "version": 3
      },
      "file_extension": ".py",
      "mimetype": "text/x-python",
      "name": "python",
      "nbconvert_exporter": "python",
      "pygments_lexer": "ipython3",
      "version": "3.6.4"
    },
    "colab": {
      "provenance": [],
      "include_colab_link": true
    }
  },
  "nbformat": 4,
  "nbformat_minor": 0
}