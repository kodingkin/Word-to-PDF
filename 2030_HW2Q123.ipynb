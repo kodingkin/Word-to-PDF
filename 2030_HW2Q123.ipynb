{
  "cells": [
    {
      "cell_type": "markdown",
      "metadata": {
        "id": "view-in-github",
        "colab_type": "text"
      },
      "source": [
        "<a href=\"https://colab.research.google.com/github/kodingkin/Word-to-PDF/blob/main/2030_HW2Q123.ipynb\" target=\"_parent\"><img src=\"https://colab.research.google.com/assets/colab-badge.svg\" alt=\"Open In Colab\"/></a>"
      ]
    },
    {
      "cell_type": "code",
      "execution_count": null,
      "metadata": {
        "id": "GEzWG8HidYcy"
      },
      "outputs": [],
      "source": [
        "#========================================#\n",
        "# ESSC2030\n",
        "# Lecture 2\n",
        "# Name: WanKin\n",
        "# SID: 1155127154\n",
        "#========================================#"
      ]
    },
    {
      "cell_type": "code",
      "source": [
        "#========================================#\n",
        "# Ex 1\n",
        "#========================================#\n",
        "mylist = [3, \"sunny\", 8, 6, \"ESSC\", 6, \"windy\", \"cloudy\"]\n",
        "#when we sort the above list\n",
        "#the terminal returns (sort) are not supported\n",
        "#between instances of 'str' and 'int'\n",
        "print(mylist)\n",
        "mylist.pop(1)\n",
        "mylist.pop(3)\n",
        "mylist.pop(4)\n",
        "mylist.pop(4)\n",
        "mylist.sort()\n",
        "print(mylist)\n",
        "mylist = [3, \"sunny\", 8, 6, \"ESSC\", 6, \"windy\", \"cloudy\"]\n",
        "mylist.pop(0)\n",
        "mylist.pop(1)\n",
        "mylist.pop(1)\n",
        "mylist.pop(2)\n",
        "mylist.sort()\n",
        "print(mylist)\n",
        "#the result is expected to follow the ASCII code\n",
        "#which capital goes before lower case\n",
        "#and A before Z\n",
        "#the sorting would base on every first letter in the word"
      ],
      "metadata": {
        "id": "qZAgz9rddkbJ",
        "colab": {
          "base_uri": "https://localhost:8080/"
        },
        "outputId": "55258d44-64a4-4232-c980-59c085aea247"
      },
      "execution_count": null,
      "outputs": [
        {
          "output_type": "stream",
          "name": "stdout",
          "text": [
            "[3, 'sunny', 8, 6, 'ESSC', 6, 'windy', 'cloudy']\n",
            "[3, 6, 6, 8]\n",
            "['ESSC', 'cloudy', 'sunny', 'windy']\n"
          ]
        }
      ]
    },
    {
      "cell_type": "code",
      "source": [
        "#========================================#\n",
        "# Ex 2\n",
        "#========================================#\n",
        "# Define a dictionary to store the mean temperature \n",
        "# and mean pressure for each year.\n",
        "dict1 = {\"1961\":{\"Mean Temp\":25.6,\"Mean Pressure\":1012.6}}\n",
        "dict2 = {\"1962\":{\"Mean Temp\":27.6,\"Mean Pressure\":1012.2}}\n",
        "dict3 = {\"1963\":{\"Mean Temp\":25.0,\"Mean Pressure\":1010.6}}\n",
        " \n",
        "# Combine the three dictionaries into dict1\n",
        "# by using <dictionary>.update(<dictionary>).\n",
        "dict1.update(dict2)\n",
        "dict1.update(dict3)\n",
        "print(\"dict1 =\")\n",
        "print(dict1)\n",
        "#print the value\n",
        "print(dict1[\"1963\"][\"Mean Temp\"])\n",
        "#Calculate the density for three year\n",
        "R=287\n",
        "density1=dict1[\"1961\"][\"Mean Pressure\"]/dict1[\"1961\"][\"Mean Temp\"]\n",
        "density2=dict1[\"1962\"][\"Mean Pressure\"]/dict1[\"1962\"][\"Mean Temp\"]\n",
        "density3=dict1[\"1963\"][\"Mean Pressure\"]/dict1[\"1963\"][\"Mean Temp\"]\n",
        "dict4 = {\"1961\":{\"Mean Air Density\":density1,\"Mean Temp\":25.6,\"Mean Pressure\":1012.6}}\n",
        "dict5 = {\"1962\":{\"Mean Air Density\":density2,\"Mean Temp\":27.6,\"Mean Pressure\":1012.2}}\n",
        "dict6 = {\"1963\":{\"Mean Air Density\":density3,\"Mean Temp\":25.0,\"Mean Pressure\":1010.6}}\n",
        "dict1.update(dict4)\n",
        "dict1.update(dict5)\n",
        "dict1.update(dict6)\n",
        "print('%s %d \\n%s %d \\n%s %d' %(\"density1 =\",density1,\"density2 =\", density2,\"density3 =\", density3))\n",
        "\n",
        "\n"
      ],
      "metadata": {
        "id": "8WFbVDMidnCS",
        "colab": {
          "base_uri": "https://localhost:8080/"
        },
        "outputId": "881ed0c5-44ce-4cb0-aa05-49de24a0f25d"
      },
      "execution_count": null,
      "outputs": [
        {
          "output_type": "stream",
          "name": "stdout",
          "text": [
            "dict1 =\n",
            "{'1961': {'Mean Temp': 25.6, 'Mean Pressure': 1012.6}, '1962': {'Mean Temp': 27.6, 'Mean Pressure': 1012.2}, '1963': {'Mean Temp': 25.0, 'Mean Pressure': 1010.6}}\n",
            "25.0\n",
            "density1 = 39 \n",
            "density2 = 36 \n",
            "density3 = 40\n"
          ]
        }
      ]
    },
    {
      "cell_type": "code",
      "source": [
        "#========================================#\n",
        "# Ex 3\n",
        "#========================================#\n",
        "#produce the list\n",
        "range(0,9,1)\n",
        "print(list(range(0,9,1)))\n",
        "#produce the second list\n",
        "mylist = list(range(0,9,3))\n",
        "mylist2= list(range(1,9,3))\n",
        "mylist3= list(range(2,9,3))\n",
        "mylist.extend(mylist2)\n",
        "mylist.extend(mylist3)\n",
        "print(list(mylist))\n",
        "#produce the third list\n",
        "mylist.sort()\n",
        "mylist.reverse()\n",
        "mylist.pop(8)\n",
        "print(list(mylist))\n",
        "\n",
        "\n"
      ],
      "metadata": {
        "id": "QGQ439kodqq8",
        "colab": {
          "base_uri": "https://localhost:8080/"
        },
        "outputId": "e452bc6b-45e5-400f-84c0-28b31ecd9db1"
      },
      "execution_count": null,
      "outputs": [
        {
          "output_type": "stream",
          "name": "stdout",
          "text": [
            "[0, 1, 2, 3, 4, 5, 6, 7, 8]\n",
            "[0, 3, 6, 1, 4, 7, 2, 5, 8]\n",
            "[8, 7, 6, 5, 4, 3, 2, 1]\n"
          ]
        }
      ]
    }
  ],
  "metadata": {
    "kernelspec": {
      "display_name": "Python 3",
      "language": "python",
      "name": "python3"
    },
    "language_info": {
      "codemirror_mode": {
        "name": "ipython",
        "version": 3
      },
      "file_extension": ".py",
      "mimetype": "text/x-python",
      "name": "python",
      "nbconvert_exporter": "python",
      "pygments_lexer": "ipython3",
      "version": "3.6.4"
    },
    "colab": {
      "provenance": [],
      "include_colab_link": true
    }
  },
  "nbformat": 4,
  "nbformat_minor": 0
}